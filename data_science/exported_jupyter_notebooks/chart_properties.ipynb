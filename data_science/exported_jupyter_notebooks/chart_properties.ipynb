{
 "cells": [
  {
   "cell_type": "markdown",
   "metadata": {},
   "source": [
    " # Chart Properties\n",
    "# Creating a chart"
   ]
  },
  {
   "cell_type": "code",
   "execution_count": 1,
   "metadata": {},
   "outputs": [
    {
     "data": {
      "text/plain": [
       "[<matplotlib.lines.Line2D at 0x1f68c172cf8>]"
      ]
     },
     "execution_count": 1,
     "metadata": {},
     "output_type": "execute_result"
    },
    {
     "data": {
      "image/png": "[encoded data removed]",
      "text/plain": [
       "<Figure size 432x288 with 1 Axes>"
      ]
     },
     "metadata": {
      "needs_background": "light"
     },
     "output_type": "display_data"
    }
   ],
   "source": [
    "import numpy as np\n",
    "import matplotlib.pyplot as plt\n",
    "\n",
    "# Returns evenly spaced values withing provided range\n",
    "# exclusive of endpoint.\n",
    "x = np.arange(0,10)\n",
    "y = x ^ 2\n",
    "\n",
    "# Label title and axes\n",
    "plt.title(\"Graph Drawing\")\n",
    "plt.xlabel(\"Time\")\n",
    "plt.ylabel(\"Distance\")\n",
    "\n",
    "# Format the line colors and type (see options below)\n",
    "plt.plot(x,y,'m')\n",
    "plt.plot(x,y,'w+')\n",
    "\n",
    "plt.plot(x,y)\n",
    "# Save as pdf\n",
    "# plt.savefig('filename.pdf', format='pdf')\n"
   ]
  },
  {
   "cell_type": "markdown",
   "metadata": {},
   "source": [
    " ## Formatting options\n",
    " | **Symbol** | **Effect** |\n",
    " | :--------- | :--------- |\n",
    " | 'b'\t       | blue       |\n",
    " | 'g'\t       | green      |\n",
    " | 'r'\t       | red        |\n",
    " | 'c'\t       | cyan       |\n",
    " | 'm'\t       | magenta    |\n",
    " | 'y'\t       | yellow     |\n",
    " | 'k'\t       | black      |\n",
    " | 'w'\t       | white      |\n",
    "\n",
    " | **Symbol** | **Effect**             |\n",
    " | :--------- | :--------------------- |\n",
    " | '.'\t       | point marker           |\n",
    " | ','\t       | pixel marker           |\n",
    " | 'o'\t       | circle marker          |\n",
    " | 'v'\t       | triangle_down marker   |\n",
    " | '^'\t       | triangle_up marker     |\n",
    " | '<'\t       | triangle_left marker   |\n",
    " | '>'\t       | triangle_right marker  |\n",
    " | '1'\t       | tri_down marker        |\n",
    " | '2'\t       | tri_up marker          |\n",
    " | '3'\t       | tri_left marker        |\n",
    " | '4'\t       | tri_right marker       |\n",
    " | 's'\t       | square marker          |\n",
    " | 'p'\t       | pentagon marker        |\n",
    " | '*'\t       | star marker            |\n",
    " | 'h'\t       | hexagon1 marker        |\n",
    " | 'H'\t       | hexagon2 marker        |\n",
    " | '+'\t       | plus marker            |\n",
    " | 'x'\t       | x marker               |\n",
    " | 'D'\t       | diamond marker         |\n",
    " | 'd'\t       | thin_diamond marker    |\n",
    " | '|'\t       | vline marker           |\n",
    " | '_'\t       | hline marker           |\n",
    "\n",
    " | **Symbol** | **Effect**          |\n",
    " | :--------- | :-------------------|\n",
    " | '-'\t       | solid line style    |\n",
    " | '--'       | dashed line style   |\n",
    " | '-.'       | dash-dot line style |\n",
    " | ':'\t       | dotted line style   |"
   ]
  }
 ],
 "metadata": {
  "file_extension": ".py",
  "kernelspec": {
   "display_name": "Python 3",
   "language": "python",
   "name": "python3"
  },
  "language_info": {
   "codemirror_mode": {
    "name": "ipython",
    "version": 3
   },
   "file_extension": ".py",
   "mimetype": "text/x-python",
   "name": "python",
   "nbconvert_exporter": "python",
   "pygments_lexer": "ipython3",
   "version": "3.7.3"
  },
  "mimetype": "text/x-python",
  "name": "python",
  "npconvert_exporter": "python",
  "pygments_lexer": "ipython3",
  "version": 3
 },
 "nbformat": 4,
 "nbformat_minor": 2
}
